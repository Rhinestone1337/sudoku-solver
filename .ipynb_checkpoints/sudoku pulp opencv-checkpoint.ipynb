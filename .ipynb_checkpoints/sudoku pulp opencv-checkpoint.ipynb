{
 "cells": [
  {
   "cell_type": "code",
   "execution_count": 3,
   "id": "5331433e",
   "metadata": {},
   "outputs": [],
   "source": [
    "from pulp import *\n",
    "from itertools import product\n",
    "\n",
    "import pytesseract\n",
    "import cv2\n",
    "import numpy as np\n",
    "from tensorflow.keras.models import load_model\n",
    "import imutils\n",
    "from imutils import contours"
   ]
  },
  {
   "cell_type": "code",
   "execution_count": 4,
   "id": "ec91edbb",
   "metadata": {},
   "outputs": [],
   "source": [
    "nums = [*map(str, [*range(1,10)])]\n",
    "rows = nums\n",
    "cols = nums\n",
    "vals = nums\n",
    "\n",
    "choices = LpVariable.dicts(\"Choice\", (vals, rows, cols), 0, 1, LpInteger)"
   ]
  },
  {
   "cell_type": "code",
   "execution_count": 5,
   "id": "13d79288",
   "metadata": {},
   "outputs": [],
   "source": [
    "prob = LpProblem(\"Судоку\", LpMaximize)\n",
    "prob += 0, \"Целевая функция\" # Задаётся нулём, так как нас интересует только подбор значения согласно ограничениям"
   ]
  },
  {
   "cell_type": "code",
   "execution_count": 6,
   "id": "ed2faa8e",
   "metadata": {},
   "outputs": [],
   "source": [
    "for r, c in product(rows, cols):\n",
    "    prob += lpSum([choices[v][r][c] for v in vals]) == 1, \"\"\n",
    "\n",
    "for v, r in product(vals, rows):\n",
    "    prob += lpSum([choices[v][r][c] for c in cols]) == 1, \"\"\n",
    "\n",
    "for v, c in product(vals, cols):\n",
    "    prob += lpSum([choices[v][r][c] for r in rows]) == 1, \"\""
   ]
  },
  {
   "cell_type": "code",
   "execution_count": 7,
   "id": "4c6314d3",
   "metadata": {},
   "outputs": [],
   "source": [
    "grid = range(3)\n",
    "subs = [[(rows[3*i+k],cols[3*j+l]) for k,l in product(grid, grid)] for i,j in product(grid, grid)]\n",
    "\n",
    "for v,b in product(vals, subs):\n",
    "    prob += lpSum([choices[v][r][c] for (r, c) in b]) == 1, \"\""
   ]
  },
  {
   "cell_type": "code",
   "execution_count": 8,
   "id": "176337c7",
   "metadata": {},
   "outputs": [],
   "source": [
    "sudoku_map = [[\"5\",\"1\",\"1\"],\n",
    "                  [\"6\",\"2\",\"1\"],\n",
    "                  [\"8\",\"4\",\"1\"],\n",
    "                  [\"4\",\"5\",\"1\"],\n",
    "                  [\"7\",\"6\",\"1\"],\n",
    "                  [\"3\",\"1\",\"2\"],\n",
    "                  [\"9\",\"3\",\"2\"],\n",
    "                  [\"6\",\"7\",\"2\"],\n",
    "                  [\"8\",\"3\",\"3\"],\n",
    "                  [\"1\",\"2\",\"4\"],\n",
    "                  [\"8\",\"5\",\"4\"],\n",
    "                  [\"4\",\"8\",\"4\"],\n",
    "                  [\"7\",\"1\",\"5\"],\n",
    "                  [\"9\",\"2\",\"5\"],\n",
    "                  [\"6\",\"4\",\"5\"],\n",
    "                  [\"2\",\"6\",\"5\"],\n",
    "                  [\"1\",\"8\",\"5\"],\n",
    "                  [\"8\",\"9\",\"5\"],\n",
    "                  [\"5\",\"2\",\"6\"],\n",
    "                  [\"3\",\"5\",\"6\"],\n",
    "                  [\"9\",\"8\",\"6\"],\n",
    "                  [\"2\",\"7\",\"7\"],\n",
    "                  [\"6\",\"3\",\"8\"],\n",
    "                  [\"8\",\"7\",\"8\"],\n",
    "                  [\"7\",\"9\",\"8\"],\n",
    "                  [\"3\",\"4\",\"9\"],\n",
    "                  [\"1\",\"5\",\"9\"],\n",
    "                  [\"6\",\"6\",\"9\"],\n",
    "                  [\"5\",\"8\",\"9\"]] \n",
    "\n",
    "for num in sudoku_map:\n",
    "    prob += choices[num[0]][num[1]][num[2]] == 1, \"\""
   ]
  },
  {
   "cell_type": "code",
   "execution_count": 9,
   "id": "f60913d9",
   "metadata": {},
   "outputs": [
    {
     "name": "stdout",
     "output_type": "stream",
     "text": [
      "Status: Optimal\n",
      "Solution:\n",
      "+-------+-------+-------+\n",
      "| 5 3 4 | 6 7 8 | 9 1 2 |\n",
      "| 6 7 2 | 1 9 5 | 3 4 8 |\n",
      "| 1 9 8 | 3 4 2 | 5 6 7 |\n",
      "+-------+-------+-------+\n",
      "| 8 5 9 | 7 6 1 | 4 2 3 |\n",
      "| 4 2 6 | 8 5 3 | 7 9 1 |\n",
      "| 7 1 3 | 9 2 4 | 8 5 6 |\n",
      "+-------+-------+-------+\n",
      "| 9 6 1 | 5 3 7 | 2 8 4 |\n",
      "| 2 8 7 | 4 1 9 | 6 3 5 |\n",
      "| 3 4 5 | 2 8 6 | 1 7 9 |\n",
      "+-------+-------+-------+\n"
     ]
    }
   ],
   "source": [
    "prob.solve()\n",
    "print(\"Status:\", LpStatus[prob.status])\n",
    "print(\"Solution:\")\n",
    "for r in rows:\n",
    "    if r == \"1\" or r == \"4\" or r == \"7\":\n",
    "        print(\"+-------+-------+-------+\")\n",
    "    for c,v in product(cols,vals):\n",
    "        if choices[v][r][c].value() == 1:\n",
    "            if c == \"1\" or c == \"4\" or c ==\"7\":\n",
    "                print(\"|\", end=' ')\n",
    "            print(v, end=' ')\n",
    "            if c == \"9\":\n",
    "                print(\"|\")\n",
    "print(\"+-------+-------+-------+\")                    \n"
   ]
  },
  {
   "cell_type": "markdown",
   "id": "17ef917f",
   "metadata": {},
   "source": [
    "## OpenCV"
   ]
  },
  {
   "cell_type": "code",
   "execution_count": 10,
   "id": "c10f11e5",
   "metadata": {},
   "outputs": [],
   "source": [
    "img = cv2.imread('examples/5.jpg')"
   ]
  },
  {
   "cell_type": "code",
   "execution_count": 15,
   "id": "fd2e4797",
   "metadata": {},
   "outputs": [],
   "source": [
    "def get_perspective(img, location, height = 900, width = 900):\n",
    "    \n",
    "    \"\"\"\n",
    "    Takes an image and location of an interesting region.\n",
    "    And return the only selected region with a perspective transformation\n",
    "    \"\"\"\n",
    "    \n",
    "    pts1 = np.float32([location[0], location[3], location[1], location[2]])\n",
    "    pts2 = np.float32([[0, 0], [width, 0], [0, height], [width, height]])\n",
    "    \n",
    "    # Apply Perspective Transform Algorithm\n",
    "    matrix = cv2.getPerspectiveTransform(pts1, pts2)\n",
    "    result = cv2.warpPerspective(img, matrix, (width, height))\n",
    "    return result\n",
    "\n",
    "def find_board(img):\n",
    "    \n",
    "    \"\"\"\n",
    "    Takes an image as input and finds a sudoku board inside of the image\n",
    "    \"\"\"\n",
    "    \n",
    "    gray = cv2.cvtColor(img, cv2.COLOR_BGR2GRAY)\n",
    "    bfilter = cv2.bilateralFilter(gray, 13, 20, 20)\n",
    "    edged = cv2.Canny(bfilter, 30, 180)\n",
    "    keypoints = cv2.findContours(edged.copy(), cv2.RETR_TREE,\n",
    "    cv2.CHAIN_APPROX_SIMPLE)\n",
    "    contours = imutils.grab_contours(keypoints)\n",
    "    newimg = cv2.drawContours(img.copy(), contours, -1, (0, 255, 0), 3)\n",
    "#     cv2.imshow(\"Board\", newimg)\n",
    "#     cv2.waitKey(0)\n",
    "#     cv2.destroyAllWindows()\n",
    "    contours = sorted(contours, key=cv2.contourArea, reverse=True)[:15]\n",
    "    location = None\n",
    "    # Finds rectangular contour\n",
    "    for contour in contours:\n",
    "        approx = cv2.approxPolyDP(contour, 15, True)\n",
    "        if len(approx) == 4:\n",
    "            location = approx\n",
    "            break\n",
    "    result = get_perspective(img, location)\n",
    "    return result, location\n",
    "\n"
   ]
  },
  {
   "cell_type": "code",
   "execution_count": 17,
   "id": "04a8e766",
   "metadata": {},
   "outputs": [],
   "source": [
    "board, location = find_board(img)\n",
    "cv2.imshow(\"Board\", board)\n",
    "cv2.waitKey(0)\n",
    "cv2.destroyAllWindows()"
   ]
  }
 ],
 "metadata": {
  "kernelspec": {
   "display_name": "Python 3 (ipykernel)",
   "language": "python",
   "name": "python3"
  },
  "language_info": {
   "codemirror_mode": {
    "name": "ipython",
    "version": 3
   },
   "file_extension": ".py",
   "mimetype": "text/x-python",
   "name": "python",
   "nbconvert_exporter": "python",
   "pygments_lexer": "ipython3",
   "version": "3.9.7"
  }
 },
 "nbformat": 4,
 "nbformat_minor": 5
}
